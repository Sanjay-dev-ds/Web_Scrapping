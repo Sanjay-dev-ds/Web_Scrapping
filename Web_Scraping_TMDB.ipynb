{
  "nbformat": 4,
  "nbformat_minor": 0,
  "metadata": {
    "colab": {
      "provenance": [],
      "collapsed_sections": []
    },
    "kernelspec": {
      "name": "python3",
      "display_name": "Python 3"
    },
    "language_info": {
      "name": "python"
    }
  },
  "cells": [
    {
      "cell_type": "code",
      "execution_count": null,
      "metadata": {
        "id": "WY2yXNbUwfgh"
      },
      "outputs": [],
      "source": [
        "import requests\n",
        "import pandas as pd\n",
        "from bs4 import BeautifulSoup\n",
        "import lxml"
      ]
    },
    {
      "cell_type": "code",
      "source": [
        "from google.colab import drive\n",
        "drive.mount('/content/drive')"
      ],
      "metadata": {
        "colab": {
          "base_uri": "https://localhost:8080/"
        },
        "id": "bNZtEpLFzGGe",
        "outputId": "aae648e1-71cd-41f5-a661-088d392f56e7"
      },
      "execution_count": null,
      "outputs": [
        {
          "output_type": "stream",
          "name": "stdout",
          "text": [
            "Drive already mounted at /content/drive; to attempt to forcibly remount, call drive.mount(\"/content/drive\", force_remount=True).\n"
          ]
        }
      ]
    },
    {
      "cell_type": "markdown",
      "source": [
        "**Inspect the Web page**\n",
        "\n",
        "From the TMdb popular movies web page, we need to parse the movie names, user ratings and the movie url. And, from individual movie pages, we need to parse the release date, genre, runtime and director name.\n",
        "\n",
        "\n",
        "All of the information in the web page is coded in HTML (HyperText Markup Language). This comes with a basic structure and order. We use HTML tag attributes to parse the page and track for specific details from the page.\n",
        "\n",
        "\n",
        "On any web page, Chrome users can use the “Inspect” option by right-clicking on the page to examine the HTML code behind the page. A menu will appear, either on the bottom or right side of the page (based on the settings), with a long list of nested HTML tags. To find the correct tag associated with the information needed, select the details (ex. movie name) and click “Inspect” again and that will highlight a blue box. Now, you can click on the HTML tags and get the correct tag associated with the item of interest, here, movie name."
      ],
      "metadata": {
        "id": "FNyMpUlJwtxc"
      }
    },
    {
      "cell_type": "markdown",
      "source": [
        "**Load the Webpage using Requests**\n",
        "\n",
        "The landing page of TMdb movies page consists of a list of popular movies. We can click on each of the movie items and navigate to the individual movie page to get more details on each movie.\n",
        "\n",
        "Each page contains 20 movies. From the landing page, we will parse the list of movies, user ratings, and movie URLs. Then, we can navigate to the next pages using the ‘Load More’ button click."
      ],
      "metadata": {
        "id": "3mXW5jAiw1K9"
      }
    },
    {
      "cell_type": "code",
      "source": [
        "def get_movies_page(movies_url):\n",
        "    \"\"\"\n",
        "    Function to download a web page using `requests` and check the status code to validate\n",
        "    if the call was successful. \n",
        "    \"\"\"\n",
        "    #movies_url = 'https://www.themoviedb.org/movie'\n",
        "    # Access the webpage using `requests`\n",
        "    response = requests.get(movies_url)\n",
        "    # Check if the request was successful\n",
        "    if response.status_code != 200:\n",
        "        raise Exception('Failed to load page {}'.format(movies_url))\n",
        "    # Parse the `response' text using BeautifulSoup\n",
        "    movies_doc = BeautifulSoup(response.text, 'lxml')\n",
        "    return movies_doc"
      ],
      "metadata": {
        "id": "tT6_aloCw5J3"
      },
      "execution_count": null,
      "outputs": []
    },
    {
      "cell_type": "markdown",
      "source": [
        "We can use the **h2.a.text.strip()** to retrieve the name of the movie. \n"
      ],
      "metadata": {
        "id": "7_EfXteKx-Cp"
      }
    },
    {
      "cell_type": "code",
      "source": [
        "def get_movies_names(doc):\n",
        "    \"\"\"\n",
        "    Function to extract the movie names from HTML source code using BeautifulSoup.\n",
        "    \"\"\"\n",
        "    movies_names_tags = doc.find('div',{'class':'page_wrapper'}).find_all('h2')  #Exclude the first 4 lines\n",
        "    movies_names = []\n",
        "    # Loop through the page get all the movie names from the page\n",
        "    for h2 in movies_names_tags:\n",
        "        movies_names.append(h2.a.text.strip())\n",
        "    return movies_names"
      ],
      "metadata": {
        "id": "s9WUe_YpxGlH"
      },
      "execution_count": null,
      "outputs": []
    },
    {
      "cell_type": "markdown",
      "source": [
        "The movie ratings are embedded in the div tag under the class: desc_selector inside data-percent."
      ],
      "metadata": {
        "id": "N1Exuickys74"
      }
    },
    {
      "cell_type": "code",
      "source": [
        "def get_movies_rating(doc):\n",
        "    \"\"\"\n",
        "    Function to extract the movie user rating from HTML source code using the BeautifulSoup. \n",
        "    \"\"\"\n",
        "    \n",
        "    movies_rating_tags = doc.find_all('div', {'class': 'user_score_chart'})\n",
        "    movies_rating = []\n",
        "    # Loop through the webpage to get the ratings of all the movies in the page\n",
        "    for tag in movies_rating_tags:\n",
        "        movies_rating.append(tag.attrs['data-percent'])\n",
        "    return movies_rating"
      ],
      "metadata": {
        "id": "5FwzgN1N18gf"
      },
      "execution_count": null,
      "outputs": []
    },
    {
      "cell_type": "code",
      "source": [
        "def get_movies_urls(doc):\n",
        "    \"\"\"\n",
        "    Function to extract the movie links from HTML source code using BeautifulSoup. \n",
        "    \"\"\"\n",
        "    movies_urls = []\n",
        "    base_url = 'https://www.themoviedb.org'\n",
        "    movies_names_tags = doc.find('div',{'class':'page_wrapper'}).find_all('h2') \n",
        "    # Loop through the webpage to get the URL of each movie\n",
        "    for tag in movies_names_tags:\n",
        "        movies_urls.append(base_url + tag.a['href'])\n",
        "    return movies_urls"
      ],
      "metadata": {
        "id": "XrtqAavW3acs"
      },
      "execution_count": null,
      "outputs": []
    },
    {
      "cell_type": "code",
      "source": [
        "def get_movies_info(doc):\n",
        "    \"\"\"\n",
        "    Function to get the movie informations - \n",
        "    release date, genre, runtime and director.\n",
        "    \"\"\"\n",
        "    div1_tags = doc.find('div', class_ = 'facts')\n",
        "    release_date = div1_tags.text.split()[1]\n",
        "    genre = div1_tags.text.split()[3:-2]\n",
        "    runtime = div1_tags.text.split()[-2:]\n",
        "    \n",
        "    div2_tags = doc.find_all('div', {'class':'scroller_wrap should_fade is_fading'})\n",
        "    director = div2_tags[0].text.strip().partition(\"\\n\")[0]\n",
        "    \n",
        "    return release_date, genre, runtime, director"
      ],
      "metadata": {
        "id": "ELLaXWun5leI"
      },
      "execution_count": null,
      "outputs": []
    },
    {
      "cell_type": "markdown",
      "source": [
        "def get_movies_info(doc):\n",
        "    \"\"\"\n",
        "    Function to get the movie informations - \n",
        "    release date, genre, runtime and director.\n",
        "    \"\"\"\n",
        "    div1_tags = doc.find('div', class_ = 'facts')\n",
        "    release_date = div1_tags.find('span',class_='release').text.strip()\n",
        "    genre_list = doc.find('span',class_='genres').find_all('a')\n",
        "    genre = []\n",
        "    for i in genre_list:\n",
        "        genre.append(i.text.strip())\n",
        "      \n",
        "    \n",
        "\n",
        "    runtime = div1_tags.find('span',class_='runtime').text.strip()\n",
        "    \n",
        "    div2_tags = doc.find_all('div', {'class':'scroller_wrap should_fade is_fading'})\n",
        "    director = div2_tags[0].text.strip().partition(\"\\n\")[0]\n",
        "    \n",
        "    return release_date, genre, runtime, director"
      ],
      "metadata": {
        "id": "w87Y1zlgcyU1"
      }
    },
    {
      "cell_type": "code",
      "source": [
        "get_movies_info(get_movies_page(\"https://www.themoviedb.org/movie/798544\"))"
      ],
      "metadata": {
        "colab": {
          "base_uri": "https://localhost:8080/"
        },
        "id": "3e-x9O2HPH0C",
        "outputId": "5af67cc6-10ee-40b9-884c-dd0543cba02b"
      },
      "execution_count": null,
      "outputs": [
        {
          "output_type": "execute_result",
          "data": {
            "text/plain": [
              "('(JP)', ['Drama,', 'Mystery,'], ['Fantasy', '40m'], 'Chiaki Kobayashi')"
            ]
          },
          "metadata": {},
          "execution_count": 22
        }
      ]
    },
    {
      "cell_type": "code",
      "source": [
        "def get_all_movies_details(urls):\n",
        "    \"\"\"\n",
        "    Function to get lists of movie information as lists from all the pages. \n",
        "    \"\"\"\n",
        "    genres = []\n",
        "    release_dates = []\n",
        "    runtimes = []\n",
        "    directors = []\n",
        "    \n",
        "    # Loop through all the urls of the the movies \n",
        "    for url in urls:\n",
        "        movie_doc = get_movies_page(url)\n",
        "        # get_movies_info returns release_date, genre, runtime, director.\n",
        "        release_date, genre, runtime, director = get_movies_info(movie_doc)\n",
        "        # Convert the genre list to string on ` `. \n",
        "        genres.append(\" \".join(genre))\n",
        "        release_dates.append(release_date)\n",
        "        runtimes.append(\" \".join(runtime))\n",
        "        directors.append(director)\n",
        "        \n",
        "    return genres, release_dates, runtimes, directors"
      ],
      "metadata": {
        "id": "vNle5AXM_LiP"
      },
      "execution_count": null,
      "outputs": []
    },
    {
      "cell_type": "code",
      "source": [
        "get_all_movies_details(get_movies_urls(get_movies_page('https://www.themoviedb.org/movie')))"
      ],
      "metadata": {
        "colab": {
          "base_uri": "https://localhost:8080/"
        },
        "id": "HtNumhr2b8wd",
        "outputId": "aaf0d101-d2ef-4a5d-837c-2362f1ff50b9"
      },
      "execution_count": null,
      "outputs": [
        {
          "output_type": "execute_result",
          "data": {
            "text/plain": [
              "(['Horror, Thriller, Romance',\n",
              "  'Horror, Thriller',\n",
              "  'Science Fiction',\n",
              "  'Action, Comedy, Thriller',\n",
              "  'Action, Adventure, Fantasy',\n",
              "  'Thriller',\n",
              "  'Fantasy, Comedy, Family',\n",
              "  'Drama, Action, Thriller',\n",
              "  'Thriller, Mystery',\n",
              "  'Science Fiction, Adventure, Action',\n",
              "  'Action, Fantasy, Adventure',\n",
              "  'Fantasy, Adventure, Family',\n",
              "  'Animation, Action, Science Fiction',\n",
              "  'Action, Thriller, Drama',\n",
              "  'Crime, Drama',\n",
              "  'Adventure, Family, TV Movie',\n",
              "  'Fantasy, Action, Comedy',\n",
              "  'Thriller, Adventure, Horror',\n",
              "  'Horror, Thriller, Mystery',\n",
              "  'Romance, Drama'],\n",
              " ['10/14/2022',\n",
              "  '07/27/2022',\n",
              "  '01/06/2022',\n",
              "  '08/05/2022',\n",
              "  '06/24/2022',\n",
              "  '08/12/2022',\n",
              "  '09/30/2022',\n",
              "  '09/09/2022',\n",
              "  '09/23/2022',\n",
              "  '08/12/2022',\n",
              "  '10/21/2022',\n",
              "  '09/08/2022',\n",
              "  '10/18/2022',\n",
              "  '09/23/2022',\n",
              "  '10/05/2022',\n",
              "  '10/06/2022',\n",
              "  '07/08/2022',\n",
              "  '08/19/2022',\n",
              "  '09/15/2022',\n",
              "  '09/07/2022'],\n",
              " ['1h 51m',\n",
              "  '1h 39m',\n",
              "  '1h 38m',\n",
              "  '2h 7m',\n",
              "  '2h 23m',\n",
              "  '1h 47m',\n",
              "  '1h 47m',\n",
              "  '1h 37m',\n",
              "  '1h 47m',\n",
              "  '1h 44m',\n",
              "  '2h 5m',\n",
              "  '1h 45m',\n",
              "  '1h 19m',\n",
              "  '1h 47m',\n",
              "  '1h 35m',\n",
              "  '1h 31m',\n",
              "  '1h 59m',\n",
              "  '1h 33m',\n",
              "  '1h 28m',\n",
              "  '1h 35m'],\n",
              " ['Jamie Lee Curtis',\n",
              "  'Isabelle Fuhrman',\n",
              "  'Egor Koreshkov',\n",
              "  'Brad Pitt',\n",
              "  'Ryosuke Yamada',\n",
              "  'Grace Caroline Currey',\n",
              "  'Bette Midler',\n",
              "  'Dali Benssalah',\n",
              "  'Guy Pearce',\n",
              "  'Owen Wilson',\n",
              "  'Dwayne Johnson',\n",
              "  'Benjamin Evan Ainsworth',\n",
              "  'Jack Dylan Grazer',\n",
              "  'Allison Janney',\n",
              "  'Diego Alonso',\n",
              "  'Miia Harris',\n",
              "  'Chris Hemsworth',\n",
              "  'Idris Elba',\n",
              "  'Sydney Craven',\n",
              "  'Josephine Langford'])"
            ]
          },
          "metadata": {},
          "execution_count": 24
        }
      ]
    },
    {
      "cell_type": "code",
      "source": [
        "def scrape_movies():\n",
        "    \"\"\"\n",
        "    Function to download web page using `requests` and\n",
        "    to extract the HTML source code using BeautifulSoup.\n",
        "    \"\"\"\n",
        "    # Let's get the popular movies listing from the TMdb website\n",
        "    page_count = 1 # Initializing the movie page count to 1\n",
        "    # Define lists for all the movie attributes\n",
        "    all_names = []\n",
        "    all_ratings = []\n",
        "    all_genres = []\n",
        "    all_release_dates = []\n",
        "    all_runtimes = []\n",
        "    all_directors = []\n",
        "    all_urls = []\n",
        "    \n",
        "    while page_count < 8: # Looping for 8 pages of the TMdb web page\n",
        "        movies_url = \"https://www.themoviedb.org/movie?page=%d\" %(page_count)\n",
        "        # Access the webpage using `requests`\n",
        "        response = requests.get(movies_url)\n",
        "        # Check if the request was successful\n",
        "        if response.status_code != 200:\n",
        "            raise Exception('Failed to load page {}'.format(movies_url))\n",
        "        # Parse the `response' text using BeautifulSoup\n",
        "        doc = BeautifulSoup(response.text, 'html.parser')\n",
        "        \n",
        "        urls = get_movies_urls(doc)\n",
        "        genres, release_dates, runtimes, directors = get_all_movies_details(urls)\n",
        "        \n",
        "        # Append each movie attribute to respective lists\n",
        "        all_names += get_movies_names(doc)\n",
        "        all_ratings += get_movies_rating(doc)\n",
        "        all_genres += genres\n",
        "        all_release_dates += release_dates\n",
        "        all_runtimes += runtimes\n",
        "        all_directors += directors\n",
        "        all_urls += urls \n",
        "        page_count += 1\n",
        "\n",
        "        # Defining a dictionary to store the movie informations\n",
        "    movies_dict = {\n",
        "        'name': all_names,\n",
        "        'rating': all_ratings,\n",
        "        'genre': all_genres,\n",
        "        'release_date': all_release_dates,\n",
        "        'runtime': all_runtimes,\n",
        "        'director': all_directors,\n",
        "        'url': all_urls\n",
        "    }\n",
        "    return pd.DataFrame(movies_dict)"
      ],
      "metadata": {
        "id": "vxf0xf_JAW9r"
      },
      "execution_count": null,
      "outputs": []
    },
    {
      "cell_type": "code",
      "source": [
        "scrape_movies()"
      ],
      "metadata": {
        "colab": {
          "base_uri": "https://localhost:8080/",
          "height": 693
        },
        "id": "Hi1gw466chYo",
        "outputId": "6b50fa05-14b0-4aa7-e17b-712b1ed86c82"
      },
      "execution_count": null,
      "outputs": [
        {
          "output_type": "execute_result",
          "data": {
            "text/plain": [
              "                                         name rating  \\\n",
              "0                              Halloween Ends   69.0   \n",
              "1                          Orphan: First Kill   68.0   \n",
              "2                              Project Gemini   55.0   \n",
              "3                                Bullet Train   75.0   \n",
              "4      Fullmetal Alchemist: The Final Alchemy   64.0   \n",
              "..                                        ...    ...   \n",
              "135                        365 Days: This Day   59.0   \n",
              "136  Harry Potter and the Philosopher's Stone   79.0   \n",
              "137      Ivy + Bean: The Ghost That Had to Go     50   \n",
              "138                                     After   72.0   \n",
              "139                                  Coraline   78.0   \n",
              "\n",
              "                          genre release_date runtime              director  \\\n",
              "0     Horror, Thriller, Romance   10/14/2022  1h 51m      Jamie Lee Curtis   \n",
              "1              Horror, Thriller   07/27/2022  1h 39m      Isabelle Fuhrman   \n",
              "2               Science Fiction   01/06/2022  1h 38m        Egor Koreshkov   \n",
              "3      Action, Comedy, Thriller   08/05/2022   2h 7m             Brad Pitt   \n",
              "4    Action, Adventure, Fantasy   06/24/2022  2h 23m        Ryosuke Yamada   \n",
              "..                          ...          ...     ...                   ...   \n",
              "135              Romance, Drama   04/27/2022  1h 51m  Anna-Maria Sieklucka   \n",
              "136          Adventure, Fantasy   11/16/2001  2h 32m      Daniel Radcliffe   \n",
              "137              Family, Comedy   09/02/2022   1h 2m        Keslee Blalock   \n",
              "138              Romance, Drama   04/12/2019  1h 46m    Josephine Langford   \n",
              "139  Animation, Family, Fantasy   02/06/2009  1h 40m        Dakota Fanning   \n",
              "\n",
              "                                          url  \n",
              "0     https://www.themoviedb.org/movie/616820  \n",
              "1     https://www.themoviedb.org/movie/760161  \n",
              "2     https://www.themoviedb.org/movie/575322  \n",
              "3     https://www.themoviedb.org/movie/718930  \n",
              "4     https://www.themoviedb.org/movie/960704  \n",
              "..                                        ...  \n",
              "135   https://www.themoviedb.org/movie/829557  \n",
              "136      https://www.themoviedb.org/movie/671  \n",
              "137  https://www.themoviedb.org/movie/1014676  \n",
              "138   https://www.themoviedb.org/movie/537915  \n",
              "139    https://www.themoviedb.org/movie/14836  \n",
              "\n",
              "[140 rows x 7 columns]"
            ],
            "text/html": [
              "\n",
              "  <div id=\"df-eb97e8bb-e256-419f-bb02-fdeb0341793a\">\n",
              "    <div class=\"colab-df-container\">\n",
              "      <div>\n",
              "<style scoped>\n",
              "    .dataframe tbody tr th:only-of-type {\n",
              "        vertical-align: middle;\n",
              "    }\n",
              "\n",
              "    .dataframe tbody tr th {\n",
              "        vertical-align: top;\n",
              "    }\n",
              "\n",
              "    .dataframe thead th {\n",
              "        text-align: right;\n",
              "    }\n",
              "</style>\n",
              "<table border=\"1\" class=\"dataframe\">\n",
              "  <thead>\n",
              "    <tr style=\"text-align: right;\">\n",
              "      <th></th>\n",
              "      <th>name</th>\n",
              "      <th>rating</th>\n",
              "      <th>genre</th>\n",
              "      <th>release_date</th>\n",
              "      <th>runtime</th>\n",
              "      <th>director</th>\n",
              "      <th>url</th>\n",
              "    </tr>\n",
              "  </thead>\n",
              "  <tbody>\n",
              "    <tr>\n",
              "      <th>0</th>\n",
              "      <td>Halloween Ends</td>\n",
              "      <td>69.0</td>\n",
              "      <td>Horror, Thriller, Romance</td>\n",
              "      <td>10/14/2022</td>\n",
              "      <td>1h 51m</td>\n",
              "      <td>Jamie Lee Curtis</td>\n",
              "      <td>https://www.themoviedb.org/movie/616820</td>\n",
              "    </tr>\n",
              "    <tr>\n",
              "      <th>1</th>\n",
              "      <td>Orphan: First Kill</td>\n",
              "      <td>68.0</td>\n",
              "      <td>Horror, Thriller</td>\n",
              "      <td>07/27/2022</td>\n",
              "      <td>1h 39m</td>\n",
              "      <td>Isabelle Fuhrman</td>\n",
              "      <td>https://www.themoviedb.org/movie/760161</td>\n",
              "    </tr>\n",
              "    <tr>\n",
              "      <th>2</th>\n",
              "      <td>Project Gemini</td>\n",
              "      <td>55.0</td>\n",
              "      <td>Science Fiction</td>\n",
              "      <td>01/06/2022</td>\n",
              "      <td>1h 38m</td>\n",
              "      <td>Egor Koreshkov</td>\n",
              "      <td>https://www.themoviedb.org/movie/575322</td>\n",
              "    </tr>\n",
              "    <tr>\n",
              "      <th>3</th>\n",
              "      <td>Bullet Train</td>\n",
              "      <td>75.0</td>\n",
              "      <td>Action, Comedy, Thriller</td>\n",
              "      <td>08/05/2022</td>\n",
              "      <td>2h 7m</td>\n",
              "      <td>Brad Pitt</td>\n",
              "      <td>https://www.themoviedb.org/movie/718930</td>\n",
              "    </tr>\n",
              "    <tr>\n",
              "      <th>4</th>\n",
              "      <td>Fullmetal Alchemist: The Final Alchemy</td>\n",
              "      <td>64.0</td>\n",
              "      <td>Action, Adventure, Fantasy</td>\n",
              "      <td>06/24/2022</td>\n",
              "      <td>2h 23m</td>\n",
              "      <td>Ryosuke Yamada</td>\n",
              "      <td>https://www.themoviedb.org/movie/960704</td>\n",
              "    </tr>\n",
              "    <tr>\n",
              "      <th>...</th>\n",
              "      <td>...</td>\n",
              "      <td>...</td>\n",
              "      <td>...</td>\n",
              "      <td>...</td>\n",
              "      <td>...</td>\n",
              "      <td>...</td>\n",
              "      <td>...</td>\n",
              "    </tr>\n",
              "    <tr>\n",
              "      <th>135</th>\n",
              "      <td>365 Days: This Day</td>\n",
              "      <td>59.0</td>\n",
              "      <td>Romance, Drama</td>\n",
              "      <td>04/27/2022</td>\n",
              "      <td>1h 51m</td>\n",
              "      <td>Anna-Maria Sieklucka</td>\n",
              "      <td>https://www.themoviedb.org/movie/829557</td>\n",
              "    </tr>\n",
              "    <tr>\n",
              "      <th>136</th>\n",
              "      <td>Harry Potter and the Philosopher's Stone</td>\n",
              "      <td>79.0</td>\n",
              "      <td>Adventure, Fantasy</td>\n",
              "      <td>11/16/2001</td>\n",
              "      <td>2h 32m</td>\n",
              "      <td>Daniel Radcliffe</td>\n",
              "      <td>https://www.themoviedb.org/movie/671</td>\n",
              "    </tr>\n",
              "    <tr>\n",
              "      <th>137</th>\n",
              "      <td>Ivy + Bean: The Ghost That Had to Go</td>\n",
              "      <td>50</td>\n",
              "      <td>Family, Comedy</td>\n",
              "      <td>09/02/2022</td>\n",
              "      <td>1h 2m</td>\n",
              "      <td>Keslee Blalock</td>\n",
              "      <td>https://www.themoviedb.org/movie/1014676</td>\n",
              "    </tr>\n",
              "    <tr>\n",
              "      <th>138</th>\n",
              "      <td>After</td>\n",
              "      <td>72.0</td>\n",
              "      <td>Romance, Drama</td>\n",
              "      <td>04/12/2019</td>\n",
              "      <td>1h 46m</td>\n",
              "      <td>Josephine Langford</td>\n",
              "      <td>https://www.themoviedb.org/movie/537915</td>\n",
              "    </tr>\n",
              "    <tr>\n",
              "      <th>139</th>\n",
              "      <td>Coraline</td>\n",
              "      <td>78.0</td>\n",
              "      <td>Animation, Family, Fantasy</td>\n",
              "      <td>02/06/2009</td>\n",
              "      <td>1h 40m</td>\n",
              "      <td>Dakota Fanning</td>\n",
              "      <td>https://www.themoviedb.org/movie/14836</td>\n",
              "    </tr>\n",
              "  </tbody>\n",
              "</table>\n",
              "<p>140 rows × 7 columns</p>\n",
              "</div>\n",
              "      <button class=\"colab-df-convert\" onclick=\"convertToInteractive('df-eb97e8bb-e256-419f-bb02-fdeb0341793a')\"\n",
              "              title=\"Convert this dataframe to an interactive table.\"\n",
              "              style=\"display:none;\">\n",
              "        \n",
              "  <svg xmlns=\"http://www.w3.org/2000/svg\" height=\"24px\"viewBox=\"0 0 24 24\"\n",
              "       width=\"24px\">\n",
              "    <path d=\"M0 0h24v24H0V0z\" fill=\"none\"/>\n",
              "    <path d=\"M18.56 5.44l.94 2.06.94-2.06 2.06-.94-2.06-.94-.94-2.06-.94 2.06-2.06.94zm-11 1L8.5 8.5l.94-2.06 2.06-.94-2.06-.94L8.5 2.5l-.94 2.06-2.06.94zm10 10l.94 2.06.94-2.06 2.06-.94-2.06-.94-.94-2.06-.94 2.06-2.06.94z\"/><path d=\"M17.41 7.96l-1.37-1.37c-.4-.4-.92-.59-1.43-.59-.52 0-1.04.2-1.43.59L10.3 9.45l-7.72 7.72c-.78.78-.78 2.05 0 2.83L4 21.41c.39.39.9.59 1.41.59.51 0 1.02-.2 1.41-.59l7.78-7.78 2.81-2.81c.8-.78.8-2.07 0-2.86zM5.41 20L4 18.59l7.72-7.72 1.47 1.35L5.41 20z\"/>\n",
              "  </svg>\n",
              "      </button>\n",
              "      \n",
              "  <style>\n",
              "    .colab-df-container {\n",
              "      display:flex;\n",
              "      flex-wrap:wrap;\n",
              "      gap: 12px;\n",
              "    }\n",
              "\n",
              "    .colab-df-convert {\n",
              "      background-color: #E8F0FE;\n",
              "      border: none;\n",
              "      border-radius: 50%;\n",
              "      cursor: pointer;\n",
              "      display: none;\n",
              "      fill: #1967D2;\n",
              "      height: 32px;\n",
              "      padding: 0 0 0 0;\n",
              "      width: 32px;\n",
              "    }\n",
              "\n",
              "    .colab-df-convert:hover {\n",
              "      background-color: #E2EBFA;\n",
              "      box-shadow: 0px 1px 2px rgba(60, 64, 67, 0.3), 0px 1px 3px 1px rgba(60, 64, 67, 0.15);\n",
              "      fill: #174EA6;\n",
              "    }\n",
              "\n",
              "    [theme=dark] .colab-df-convert {\n",
              "      background-color: #3B4455;\n",
              "      fill: #D2E3FC;\n",
              "    }\n",
              "\n",
              "    [theme=dark] .colab-df-convert:hover {\n",
              "      background-color: #434B5C;\n",
              "      box-shadow: 0px 1px 3px 1px rgba(0, 0, 0, 0.15);\n",
              "      filter: drop-shadow(0px 1px 2px rgba(0, 0, 0, 0.3));\n",
              "      fill: #FFFFFF;\n",
              "    }\n",
              "  </style>\n",
              "\n",
              "      <script>\n",
              "        const buttonEl =\n",
              "          document.querySelector('#df-eb97e8bb-e256-419f-bb02-fdeb0341793a button.colab-df-convert');\n",
              "        buttonEl.style.display =\n",
              "          google.colab.kernel.accessAllowed ? 'block' : 'none';\n",
              "\n",
              "        async function convertToInteractive(key) {\n",
              "          const element = document.querySelector('#df-eb97e8bb-e256-419f-bb02-fdeb0341793a');\n",
              "          const dataTable =\n",
              "            await google.colab.kernel.invokeFunction('convertToInteractive',\n",
              "                                                     [key], {});\n",
              "          if (!dataTable) return;\n",
              "\n",
              "          const docLinkHtml = 'Like what you see? Visit the ' +\n",
              "            '<a target=\"_blank\" href=https://colab.research.google.com/notebooks/data_table.ipynb>data table notebook</a>'\n",
              "            + ' to learn more about interactive tables.';\n",
              "          element.innerHTML = '';\n",
              "          dataTable['output_type'] = 'display_data';\n",
              "          await google.colab.output.renderOutput(dataTable, element);\n",
              "          const docLink = document.createElement('div');\n",
              "          docLink.innerHTML = docLinkHtml;\n",
              "          element.appendChild(docLink);\n",
              "        }\n",
              "      </script>\n",
              "    </div>\n",
              "  </div>\n",
              "  "
            ]
          },
          "metadata": {},
          "execution_count": 26
        }
      ]
    },
    {
      "cell_type": "code",
      "source": [
        "df = scrape_movies()\n",
        "\n",
        "from pathlib import Path  \n",
        "filepath = Path('drive/MyDrive/Colab Notebooks/myfile.csv')  \n",
        "filepath.parent.mkdir(parents=True, exist_ok=True)  \n",
        "df.to_csv(filepath)"
      ],
      "metadata": {
        "id": "-n_HEUdYAZLm"
      },
      "execution_count": null,
      "outputs": []
    }
  ]
}