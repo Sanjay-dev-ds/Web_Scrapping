{
  "nbformat": 4,
  "nbformat_minor": 0,
  "metadata": {
    "colab": {
      "provenance": [],
      "collapsed_sections": []
    },
    "kernelspec": {
      "name": "python3",
      "display_name": "Python 3"
    },
    "language_info": {
      "name": "python"
    }
  },
  "cells": [
    {
      "cell_type": "code",
      "execution_count": 1,
      "metadata": {
        "colab": {
          "base_uri": "https://localhost:8080/"
        },
        "id": "9hPYgwQfdMYy",
        "outputId": "292b5303-011e-4302-d105-58f1da066fe5"
      },
      "outputs": [
        {
          "output_type": "stream",
          "name": "stdout",
          "text": [
            "Looking in indexes: https://pypi.org/simple, https://us-python.pkg.dev/colab-wheels/public/simple/\n",
            "Requirement already satisfied: beautifulsoup4 in /usr/local/lib/python3.7/dist-packages (4.6.3)\n",
            "Looking in indexes: https://pypi.org/simple, https://us-python.pkg.dev/colab-wheels/public/simple/\n",
            "Requirement already satisfied: lxml in /usr/local/lib/python3.7/dist-packages (4.9.1)\n",
            "Looking in indexes: https://pypi.org/simple, https://us-python.pkg.dev/colab-wheels/public/simple/\n",
            "Collecting cloudscraper\n",
            "  Downloading cloudscraper-1.2.64-py2.py3-none-any.whl (97 kB)\n",
            "\u001b[K     |████████████████████████████████| 97 kB 3.4 MB/s \n",
            "\u001b[?25hRequirement already satisfied: pyparsing>=2.4.7 in /usr/local/lib/python3.7/dist-packages (from cloudscraper) (3.0.9)\n",
            "Collecting requests-toolbelt>=0.9.1\n",
            "  Downloading requests_toolbelt-0.10.0-py2.py3-none-any.whl (54 kB)\n",
            "\u001b[K     |████████████████████████████████| 54 kB 2.5 MB/s \n",
            "\u001b[?25hRequirement already satisfied: requests>=2.9.2 in /usr/local/lib/python3.7/dist-packages (from cloudscraper) (2.23.0)\n",
            "Requirement already satisfied: chardet<4,>=3.0.2 in /usr/local/lib/python3.7/dist-packages (from requests>=2.9.2->cloudscraper) (3.0.4)\n",
            "Requirement already satisfied: certifi>=2017.4.17 in /usr/local/lib/python3.7/dist-packages (from requests>=2.9.2->cloudscraper) (2022.9.24)\n",
            "Requirement already satisfied: idna<3,>=2.5 in /usr/local/lib/python3.7/dist-packages (from requests>=2.9.2->cloudscraper) (2.10)\n",
            "Requirement already satisfied: urllib3!=1.25.0,!=1.25.1,<1.26,>=1.21.1 in /usr/local/lib/python3.7/dist-packages (from requests>=2.9.2->cloudscraper) (1.24.3)\n",
            "Installing collected packages: requests-toolbelt, cloudscraper\n",
            "Successfully installed cloudscraper-1.2.64 requests-toolbelt-0.10.0\n"
          ]
        }
      ],
      "source": [
        "! pip install beautifulsoup4\n",
        "!pip install lxml\n",
        "!pip install cloudscraper"
      ]
    },
    {
      "cell_type": "code",
      "source": [
        "from bs4 import BeautifulSoup\n",
        "import cloudscraper"
      ],
      "metadata": {
        "id": "aUsd5VrudQOl"
      },
      "execution_count": null,
      "outputs": []
    },
    {
      "cell_type": "code",
      "source": [
        "scraper = cloudscraper.create_scraper(delay=10,   browser={'custom': 'ScraperBot/1.0',})\n",
        "\n",
        "URL = 'https://www.guessfactory.com/us/en/sale/women/view-all'\n",
        "page = scraper.get(URL)\n",
        "\n",
        "soup = BeautifulSoup(page.content, 'lxml')"
      ],
      "metadata": {
        "id": "MLV9WlL2dUdo"
      },
      "execution_count": null,
      "outputs": []
    },
    {
      "cell_type": "code",
      "source": [
        "products = soup.find_all('div', class_='product-grid__column')\n",
        "\n",
        "for product in products:\n",
        "  try:\n",
        "    prod_name = product.find('div', class_='product-tile__tile-body').h3.text.strip()\n",
        "    price = product.find('span', class_='price__red-color text-nowrap').text.strip().split()[-1]\n",
        "    prod_id = product.find('div', class_='product')['data-pid']\n",
        "    prev_price = product.find('span', class_='price__strike-through').text.strip()\n",
        "    discount = product.find('span', class_='price__red-color d-inline-block text-nowrap').text.strip().split()[0].replace('(', '')\n",
        "\n",
        "\n",
        "    # print(f\"Product ID: {prod_id} |Product Name: {prod_name} | Previous Price: {prev_price} | Current Price; {price} | Discount: {discount}\")\n",
        "  except:\n",
        "    prev_price = 'No Previous Price'\n",
        "    discount = 'No Discount'\n",
        "  finally:\n",
        "    print(f\"Product ID: {prod_id} |Product Name: {prod_name} | Previous Price: {prev_price} | Current Price; {price} | Discount: {discount}\")"
      ],
      "metadata": {
        "colab": {
          "base_uri": "https://localhost:8080/"
        },
        "id": "VBTsQ9ijdVGX",
        "outputId": "6df8b156-cc03-418d-d496-db894dca1a87"
      },
      "execution_count": null,
      "outputs": [
        {
          "output_type": "stream",
          "name": "stdout",
          "text": [
            "Product ID: Q2BR15Z33A0-G1Q3 |Product Name: Ojai Wool-Blend Cardigan | Previous Price: $69.99 | Current Price; $39.19 | Discount: 44%\n",
            "Product ID: SG863621-TAU |Product Name: Elsie Embossed Logo Flap Crossbody | Previous Price: $74.99 | Current Price; $52.49 | Discount: 30%\n",
            "Product ID: Q2BL03WF140-G1N7 |Product Name: Olicia Longline Jacket | Previous Price: $119.99 | Current Price; $59.99 | Discount: 50%\n",
            "Product ID: PA862533-CAR |Product Name: Luella Logo Backpack | Previous Price: $79.99 | Current Price; $39.99 | Discount: 50%\n",
            "Product ID: Q2BR36Z0610-JTMU |Product Name: Lanai Halter Sweater Top | Previous Price: $44.99 | Current Price; $22.49 | Discount: 50%\n",
            "Product ID: Q2BB08KAOX0-JBLK |Product Name: Sonia Ponte Pants | Previous Price: $49.99 | Current Price; $24.99 | Discount: 50%\n",
            "Product ID: Q2BL00WDY02-JBLK |Product Name: Eco Abiel Windbreaker | Previous Price: $69.99 | Current Price; $41.99 | Discount: 40%\n",
            "Product ID: SV846612-BLA |Product Name: Brooker Crossbody | Previous Price: $69.99 | Current Price; $41.99 | Discount: 40%\n",
            "Product ID: Q2VQ02K6C70-G011 |Product Name: Jaessa Logo-Tape Active Jacket | Previous Price: $69.99 | Current Price; $34.99 | Discount: 50%\n",
            "Product ID: Q2VQ05K6C70-G011 |Product Name: Jaessa Logo-Tape Joggers | Previous Price: $59.99 | Current Price; $29.99 | Discount: 50%\n",
            "Product ID: Q2GN09D45M3-WWA |Product Name: Camil Logo Tape Denim Jacket | Previous Price: $79.99 | Current Price; $39.99 | Discount: 50%\n",
            "Product ID: GFEMMALEE-IVRY |Product Name: Emmalee Combat Booties | Previous Price: $79.99 | Current Price; $55.19 | Discount: 31%\n",
            "Product ID: Q2VL00WDWO0-A810 |Product Name: Esther Faux-Leather Hooded Jacket | Previous Price: $89.99 | Current Price; $69.29 | Discount: 23%\n",
            "Product ID: QBYA06D4S50-WWA |Product Name: Jolene Ultra High-Rise Straight Jeans | Previous Price: $79.99 | Current Price; $39.99 | Discount: 50%\n",
            "Product ID: Q2PK19K3ES0-A810 |Product Name: Zarisse Shirtdress | Previous Price: $59.99 | Current Price; $29.99 | Discount: 50%\n",
            "Product ID: 21GF022001-GREEN |Product Name: Andrea Gingham Mini Crossbody | Previous Price: $39.99 | Current Price; $27.99 | Discount: 30%\n",
            "Product ID: Q2RR01Z2YJ2-F11N |Product Name: Kade Off-Shoulder Sweater | Previous Price: $54.99 | Current Price; $43.99 | Discount: 20%\n",
            "Product ID: QBPA00R34R5-BLWA |Product Name: Tamara High-Rise Skinny Jeans | Previous Price: $79.99 | Current Price; $48.79 | Discount: 39%\n",
            "Product ID: Q2BR35Z0610-F14Z |Product Name: Tameka Sweater Dress | Previous Price: $69.99 | Current Price; $39.19 | Discount: 44%\n",
            "Product ID: SG864625-MOC |Product Name: Keera Logo Tote | Previous Price: $89.99 | Current Price; $67.49 | Discount: 25%\n",
            "Product ID: Q2GP30KARG0-JBLK |Product Name: Lily Scoop Neck Top | Previous Price: $29.99 | Current Price; $23.99 | Discount: 20%\n",
            "Product ID: PR862512-BLA |Product Name: Luella Logo Camera Crossbody | Previous Price: $69.99 | Current Price; $34.99 | Discount: 50%\n",
            "Product ID: Q2BR29Z2NM0-JBLK |Product Name: Maidan Cardigan | Previous Price: $69.99 | Current Price; $39.19 | Discount: 44%\n",
            "Product ID: QBGA41D4QW0-XLWA |Product Name: Tiffany Classic Mom Jeans | Previous Price: $79.99 | Current Price; $39.99 | Discount: 50%\n",
            "Product ID: Q2OR12Z2NM0-F4L9 |Product Name: Ebony Sweater Tank | Previous Price: $44.99 | Current Price; $35.99 | Discount: 20%\n",
            "Product ID: Q2VB01R6O00-JBLK |Product Name: Martha Buckle Pants | Previous Price: $59.99 | Current Price; $29.99 | Discount: 50%\n",
            "Product ID: Q2VN00WE5P0-JBLK |Product Name: Dina Blazer | Previous Price: $69.99 | Current Price; $34.99 | Discount: 50%\n",
            "Product ID: Q2VD04WE5P0-JBLK |Product Name: Dina Shorts | Previous Price: $49.99 | Current Price; $24.99 | Discount: 50%\n",
            "Product ID: Q2RR02R0612-G8AW |Product Name: Zayla Braided Turtleneck Sweater | Previous Price: $54.99 | Current Price; $43.99 | Discount: 20%\n",
            "Product ID: Q2BA13D2XP0-MDYI |Product Name: Paisley Mid-Rise Denim Joggers | Previous Price: $84.99 | Current Price; $67.99 | Discount: 20%\n",
            "Product ID: SG863324-OLV |Product Name: Esme Carryall | Previous Price: $89.99 | Current Price; $44.99 | Discount: 50%\n",
            "Product ID: GFGLADIS27-WHI02 |Product Name: Gladis Floral Slip-On Sneakers | Previous Price: $54.99 | Current Price; $27.49 | Discount: 50%\n",
            "Product ID: Q2BN12D4XT0-BLWA |Product Name: Amo Denim Trucker Jacket | Previous Price: $79.99 | Current Price; $39.99 | Discount: 50%\n",
            "Product ID: Q2BA10D2XP0-BDYI |Product Name: Paisley Mid-Rise Denim Joggers | Previous Price: $84.99 | Current Price; $67.99 | Discount: 20%\n",
            "Product ID: SV863324-BLA |Product Name: Esme Logo Carryall | Previous Price: $89.99 | Current Price; $44.99 | Discount: 50%\n",
            "Product ID: SV863305-BLA |Product Name: Esme Logo Small Satchel | Previous Price: $69.99 | Current Price; $34.99 | Discount: 50%\n"
          ]
        }
      ]
    }
  ]
}