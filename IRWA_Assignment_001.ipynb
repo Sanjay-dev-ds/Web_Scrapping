{
  "nbformat": 4,
  "nbformat_minor": 0,
  "metadata": {
    "colab": {
      "provenance": [],
      "collapsed_sections": []
    },
    "kernelspec": {
      "name": "python3",
      "display_name": "Python 3"
    },
    "language_info": {
      "name": "python"
    }
  },
  "cells": [
    {
      "cell_type": "markdown",
      "source": [
        "Build a web scrapper using BeautifulSoup to extract (scrape) \n",
        "\n",
        "product details\n",
        "(**Product number, Product Name, New Price, Old Price, discoun**t) from\n",
        "\n",
        "https://www.guessfactory.com/us/en/sale/women/view-all\n",
        "\n",
        "in to an excel file."
      ],
      "metadata": {
        "id": "YpaZEtllCZgB"
      }
    },
    {
      "cell_type": "code",
      "source": [
        "import requests\n",
        "from bs4 import BeautifulSoup\n",
        "import lxml  #working with xml\n"
      ],
      "metadata": {
        "id": "01z9nmtmCnM5"
      },
      "execution_count": null,
      "outputs": []
    },
    {
      "cell_type": "code",
      "execution_count": null,
      "metadata": {
        "id": "Z1TYiX5hCD5u"
      },
      "outputs": [],
      "source": [
        "url = 'https://odel.lk/deal-products'\n",
        "\n",
        "f = requests.get(url)\n",
        "headers = {\n",
        "\n",
        "    'User-Agent': 'Mozilla/5.0 (Windows NT 6.1; WOW64) AppleWebKit/537.36 (KHTML, like Gecko) Chrome/63.0.3239.132 Safari/537.36 QIHU 360SE'\n",
        " \n",
        "    }"
      ]
    },
    {
      "cell_type": "code",
      "source": [
        "soup = BeautifulSoup(f.content, 'lxml')"
      ],
      "metadata": {
        "id": "B_8G0I8UN96-"
      },
      "execution_count": null,
      "outputs": []
    },
    {
      "cell_type": "code",
      "source": [
        "\n",
        "products = soup.find('div',{'id': 'search_result'}).find_all('div',class_=\"product-tile-search\")\n",
        "discount = []\n",
        "new_price = []\n",
        "old_price = []\n",
        "product_name = []\n",
        "\n",
        "for p in products:\n",
        "  new_price.append(p.find('span',class_ = 'stext-105 cl3').text.strip())\n",
        "  old_price.append(p.find('del').text.strip())\n",
        "  product_name.append(p.find('a',{'class': 'stext-104'}).text.strip())\n",
        "  discount.append(p.find('div', {'class': 'product_tag_discount'}).text.strip())\n",
        "\n",
        "Number = []\n",
        "\n",
        "for i in range(0 ,len(product_name)):\n",
        "     Number.append(i+1)\n",
        "\n",
        "\n",
        "dict = {\n",
        "    'Product Number':Number,\n",
        "    'Product Name':product_name,\n",
        "    'New Price':new_price,\n",
        "    'Old Price': old_price,\n",
        "    'Discount':discount\n",
        "\n",
        "}\n",
        "\n",
        "import pandas as pd\n",
        "\n",
        "df=pd.DataFrame(dict)\n",
        "print(df)"
      ],
      "metadata": {
        "id": "at18Y8-3C3ed",
        "colab": {
          "base_uri": "https://localhost:8080/"
        },
        "outputId": "4b88ad0a-1190-4bf5-e491-4f0bc10df6be"
      },
      "execution_count": null,
      "outputs": [
        {
          "output_type": "stream",
          "name": "stdout",
          "text": [
            "    Product Number                                       Product Name  \\\n",
            "0                1                       Beige Colour Linen Serviette   \n",
            "1                2         Odel White Colour Milk Storage Ceramic Jar   \n",
            "2                3                           Odel White Slim Fit Polo   \n",
            "3                4                          Odel Red Regular Fit Polo   \n",
            "4                5                           Odel Black Slim Fit Polo   \n",
            "5                6                                      Odel Blue Tie   \n",
            "6                7                                       Odel Red Bow   \n",
            "7                8                          Odel Ornament Ceramic Cow   \n",
            "8                9            Odel Tea Light Holder 4 On Wooden Stand   \n",
            "9               10             Odel Salad Plate Square Melamine Black   \n",
            "10              11              Odel Salad Plate Round Melamine Black   \n",
            "11              12                              Odel Solid Color Polo   \n",
            "12              13                    Tara Matt Red Knee Length Skirt   \n",
            "13              14                 Biconic Basic Boyfriend Fit Tshirt   \n",
            "14              15  Typhoon Metal Coffee Storage Jar With Henrik C...   \n",
            "15              16        Odel Stripes Band Collar Long Sleeves Shirt   \n",
            "16              17          Odel Green Elephants on White Ceramic Mug   \n",
            "17              18                       Biconic Hard Cover Note Book   \n",
            "18              19                     Odel Bath Sheet Green 80X168Cm   \n",
            "19              20        Odel Bath Sheet L.Green 80X168CmTerry Towel   \n",
            "20              21         Odel Lemon Green 70X140Cm Terry Bath Towel   \n",
            "21              22             Odel Face L.Green 30X30Cm  Terry Towel   \n",
            "22              23          Odel Bath Sheet Pink 80X168Cm Terry Towel   \n",
            "23              24         Odel Lilac 80X168Cm Terry Bath Sheet Towel   \n",
            "24              25                Odel Lilac 30X30Cm Terry Face Towel   \n",
            "25              26              Odel White Classic 2X4' Pillar Candle   \n",
            "26              27                       Biconic  Sleeveless Crop Top   \n",
            "27              28                       Odel Brown Single Pack Socks   \n",
            "28              29                             Odel Single Pack Socks   \n",
            "29              30                                     Odel White Bow   \n",
            "30              31                                     Odel Black Bow   \n",
            "31              32                              Odel Green Basic Polo   \n",
            "32              33                               Odel Blue Basic Polo   \n",
            "33              34              Odel Navy Blue Regular Fit Pique Polo   \n",
            "34              35      Tara Royal Blue Waist Gathered Sleeveless Top   \n",
            "35              36                 Tara Navy   Side Tie Up Mini Dress   \n",
            "36              37                       Tara Black Shift  Mini Dress   \n",
            "37              38              Tara Green Side Slit  Long Sleeve Top   \n",
            "38              39                                Biconic Graphic Top   \n",
            "39              40                              Biconic Bicycle Short   \n",
            "\n",
            "    New Price  Old Price Discount  \n",
            "0     LKR 413    LKR 550      25%  \n",
            "1   LKR 1,313  LKR 1,750      25%  \n",
            "2   LKR 3,218  LKR 4,290      25%  \n",
            "3   LKR 3,218  LKR 4,290      25%  \n",
            "4   LKR 3,218  LKR 4,290      25%  \n",
            "5   LKR 1,118  LKR 1,490      25%  \n",
            "6     LKR 450    LKR 600      25%  \n",
            "7   LKR 1,688  LKR 2,250      25%  \n",
            "8   LKR 3,938  LKR 5,250      25%  \n",
            "9   LKR 1,313  LKR 1,750      25%  \n",
            "10  LKR 1,088  LKR 1,450      25%  \n",
            "11  LKR 3,218  LKR 4,290      25%  \n",
            "12  LKR 2,993  LKR 3,990      25%  \n",
            "13  LKR 1,493  LKR 1,990      25%  \n",
            "14  LKR 3,938  LKR 5,250      25%  \n",
            "15  LKR 3,638  LKR 4,850      25%  \n",
            "16    LKR 750  LKR 1,000      25%  \n",
            "17  LKR 1,118  LKR 1,490      25%  \n",
            "18  LKR 3,713  LKR 4,950      25%  \n",
            "19  LKR 3,713  LKR 4,950      25%  \n",
            "20  LKR 2,588  LKR 3,450      25%  \n",
            "21    LKR 338    LKR 450      25%  \n",
            "22  LKR 3,713  LKR 4,950      25%  \n",
            "23  LKR 3,713  LKR 4,950      25%  \n",
            "24    LKR 338    LKR 450      25%  \n",
            "25    LKR 375    LKR 500      25%  \n",
            "26  LKR 1,118  LKR 1,490      25%  \n",
            "27    LKR 338    LKR 450      25%  \n",
            "28    LKR 488    LKR 650      25%  \n",
            "29    LKR 150    LKR 200      25%  \n",
            "30    LKR 563    LKR 750      25%  \n",
            "31  LKR 3,218  LKR 4,290      25%  \n",
            "32  LKR 3,218  LKR 4,290      25%  \n",
            "33  LKR 3,218  LKR 4,290      25%  \n",
            "34  LKR 2,618  LKR 3,490      25%  \n",
            "35  LKR 2,093  LKR 2,790      25%  \n",
            "36  LKR 4,463  LKR 5,950      25%  \n",
            "37  LKR 4,868  LKR 6,490      25%  \n",
            "38  LKR 1,268  LKR 1,690      25%  \n",
            "39  LKR 1,118  LKR 1,490      25%  \n"
          ]
        }
      ]
    },
    {
      "cell_type": "code",
      "source": [
        "from pathlib import Path  \n",
        "filepath = Path('drive/MyDrive/Colab Notebooks/WEB-Scrapper/Odel.csv')  \n",
        "filepath.parent.mkdir(parents=True, exist_ok=True)  \n",
        "df.to_csv(filepath,index=False)"
      ],
      "metadata": {
        "id": "S8H_i09OSODb"
      },
      "execution_count": null,
      "outputs": []
    },
    {
      "cell_type": "code",
      "source": [
        "from google.colab import drive\n",
        "drive.mount('/content/drive')"
      ],
      "metadata": {
        "colab": {
          "base_uri": "https://localhost:8080/"
        },
        "id": "OizorX17Tnr7",
        "outputId": "105171dc-95ec-4c15-c46c-4fad41ef6595"
      },
      "execution_count": null,
      "outputs": [
        {
          "output_type": "stream",
          "name": "stdout",
          "text": [
            "Mounted at /content/drive\n"
          ]
        }
      ]
    }
  ]
}